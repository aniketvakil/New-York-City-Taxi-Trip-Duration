{
  "nbformat": 4,
  "nbformat_minor": 0,
  "metadata": {
    "colab": {
      "name": "NYC_Taxi_Duration_Kaggle.ipynb",
      "provenance": [],
      "collapsed_sections": [],
      "toc_visible": true,
      "machine_shape": "hm"
    },
    "kernelspec": {
      "name": "python3",
      "display_name": "Python 3"
    },
    "accelerator": "GPU"
  },
  "cells": [
    {
      "cell_type": "code",
      "metadata": {
        "id": "hxt4dxDSvg4L",
        "colab_type": "code",
        "colab": {
          "base_uri": "https://localhost:8080/",
          "height": 122
        },
        "outputId": "3f534fc6-0a54-4ad0-8d94-19ceff113460"
      },
      "source": [
        "from google.colab import drive\n",
        "drive.mount('/content/gdrive')"
      ],
      "execution_count": null,
      "outputs": [
        {
          "output_type": "stream",
          "text": [
            "Go to this URL in a browser: https://accounts.google.com/o/oauth2/auth?client_id=947318989803-6bn6qk8qdgf4n4g3pfee6491hc0brc4i.apps.googleusercontent.com&redirect_uri=urn%3aietf%3awg%3aoauth%3a2.0%3aoob&response_type=code&scope=email%20https%3a%2f%2fwww.googleapis.com%2fauth%2fdocs.test%20https%3a%2f%2fwww.googleapis.com%2fauth%2fdrive%20https%3a%2f%2fwww.googleapis.com%2fauth%2fdrive.photos.readonly%20https%3a%2f%2fwww.googleapis.com%2fauth%2fpeopleapi.readonly\n",
            "\n",
            "Enter your authorization code:\n",
            "··········\n",
            "Mounted at /content/gdrive\n"
          ],
          "name": "stdout"
        }
      ]
    },
    {
      "cell_type": "code",
      "metadata": {
        "id": "q34vXFbCw-UA",
        "colab_type": "code",
        "colab": {}
      },
      "source": [
        "import pandas as pd\n",
        "import numpy as np\n",
        "import sklearn\n",
        "import matplotlib.pyplot as plt\n",
        "from geopy.distance import great_circle\n",
        "import seaborn as sns\n",
        "import datetime"
      ],
      "execution_count": null,
      "outputs": []
    },
    {
      "cell_type": "code",
      "metadata": {
        "id": "VoGvsEFJxthh",
        "colab_type": "code",
        "colab": {
          "base_uri": "https://localhost:8080/",
          "height": 309
        },
        "outputId": "9d5a636c-c796-41eb-cc36-cbc87cda686d"
      },
      "source": [
        "train=pd.read_csv('/content/gdrive/My Drive/Datasets/NYC Taxi Kaggle/train.csv')\n",
        "test=pd.read_csv('/content/gdrive/My Drive/Datasets/NYC Taxi Kaggle/test.csv')\n",
        "train.head()"
      ],
      "execution_count": null,
      "outputs": [
        {
          "output_type": "execute_result",
          "data": {
            "text/html": [
              "<div>\n",
              "<style scoped>\n",
              "    .dataframe tbody tr th:only-of-type {\n",
              "        vertical-align: middle;\n",
              "    }\n",
              "\n",
              "    .dataframe tbody tr th {\n",
              "        vertical-align: top;\n",
              "    }\n",
              "\n",
              "    .dataframe thead th {\n",
              "        text-align: right;\n",
              "    }\n",
              "</style>\n",
              "<table border=\"1\" class=\"dataframe\">\n",
              "  <thead>\n",
              "    <tr style=\"text-align: right;\">\n",
              "      <th></th>\n",
              "      <th>id</th>\n",
              "      <th>vendor_id</th>\n",
              "      <th>pickup_datetime</th>\n",
              "      <th>dropoff_datetime</th>\n",
              "      <th>passenger_count</th>\n",
              "      <th>pickup_longitude</th>\n",
              "      <th>pickup_latitude</th>\n",
              "      <th>dropoff_longitude</th>\n",
              "      <th>dropoff_latitude</th>\n",
              "      <th>store_and_fwd_flag</th>\n",
              "      <th>trip_duration</th>\n",
              "    </tr>\n",
              "  </thead>\n",
              "  <tbody>\n",
              "    <tr>\n",
              "      <th>0</th>\n",
              "      <td>id2875421</td>\n",
              "      <td>2</td>\n",
              "      <td>2016-03-14 17:24:55</td>\n",
              "      <td>2016-03-14 17:32:30</td>\n",
              "      <td>1</td>\n",
              "      <td>-73.982155</td>\n",
              "      <td>40.767937</td>\n",
              "      <td>-73.964630</td>\n",
              "      <td>40.765602</td>\n",
              "      <td>N</td>\n",
              "      <td>455</td>\n",
              "    </tr>\n",
              "    <tr>\n",
              "      <th>1</th>\n",
              "      <td>id2377394</td>\n",
              "      <td>1</td>\n",
              "      <td>2016-06-12 00:43:35</td>\n",
              "      <td>2016-06-12 00:54:38</td>\n",
              "      <td>1</td>\n",
              "      <td>-73.980415</td>\n",
              "      <td>40.738564</td>\n",
              "      <td>-73.999481</td>\n",
              "      <td>40.731152</td>\n",
              "      <td>N</td>\n",
              "      <td>663</td>\n",
              "    </tr>\n",
              "    <tr>\n",
              "      <th>2</th>\n",
              "      <td>id3858529</td>\n",
              "      <td>2</td>\n",
              "      <td>2016-01-19 11:35:24</td>\n",
              "      <td>2016-01-19 12:10:48</td>\n",
              "      <td>1</td>\n",
              "      <td>-73.979027</td>\n",
              "      <td>40.763939</td>\n",
              "      <td>-74.005333</td>\n",
              "      <td>40.710087</td>\n",
              "      <td>N</td>\n",
              "      <td>2124</td>\n",
              "    </tr>\n",
              "    <tr>\n",
              "      <th>3</th>\n",
              "      <td>id3504673</td>\n",
              "      <td>2</td>\n",
              "      <td>2016-04-06 19:32:31</td>\n",
              "      <td>2016-04-06 19:39:40</td>\n",
              "      <td>1</td>\n",
              "      <td>-74.010040</td>\n",
              "      <td>40.719971</td>\n",
              "      <td>-74.012268</td>\n",
              "      <td>40.706718</td>\n",
              "      <td>N</td>\n",
              "      <td>429</td>\n",
              "    </tr>\n",
              "    <tr>\n",
              "      <th>4</th>\n",
              "      <td>id2181028</td>\n",
              "      <td>2</td>\n",
              "      <td>2016-03-26 13:30:55</td>\n",
              "      <td>2016-03-26 13:38:10</td>\n",
              "      <td>1</td>\n",
              "      <td>-73.973053</td>\n",
              "      <td>40.793209</td>\n",
              "      <td>-73.972923</td>\n",
              "      <td>40.782520</td>\n",
              "      <td>N</td>\n",
              "      <td>435</td>\n",
              "    </tr>\n",
              "  </tbody>\n",
              "</table>\n",
              "</div>"
            ],
            "text/plain": [
              "          id  vendor_id  ... store_and_fwd_flag trip_duration\n",
              "0  id2875421          2  ...                  N           455\n",
              "1  id2377394          1  ...                  N           663\n",
              "2  id3858529          2  ...                  N          2124\n",
              "3  id3504673          2  ...                  N           429\n",
              "4  id2181028          2  ...                  N           435\n",
              "\n",
              "[5 rows x 11 columns]"
            ]
          },
          "metadata": {
            "tags": []
          },
          "execution_count": 3
        }
      ]
    },
    {
      "cell_type": "code",
      "metadata": {
        "id": "X42sLI4p3Ubb",
        "colab_type": "code",
        "colab": {
          "base_uri": "https://localhost:8080/",
          "height": 34
        },
        "outputId": "d761315e-c8b8-4e8e-8448-3b2bdea882e1"
      },
      "source": [
        "\n",
        "#train.passenger_count.unique()"
      ],
      "execution_count": null,
      "outputs": [
        {
          "output_type": "execute_result",
          "data": {
            "text/plain": [
              "array([1, 6, 4, 2, 3, 5, 0, 7, 9, 8])"
            ]
          },
          "metadata": {
            "tags": []
          },
          "execution_count": 5
        }
      ]
    },
    {
      "cell_type": "code",
      "metadata": {
        "id": "BZhvBx9JZyiC",
        "colab_type": "code",
        "colab": {}
      },
      "source": [
        "train['distance']=train.apply(lambda row: great_circle((row.pickup_latitude,row.pickup_longitude), (row.dropoff_latitude, row.dropoff_longitude)).km, axis=1)\n"
      ],
      "execution_count": null,
      "outputs": []
    },
    {
      "cell_type": "code",
      "metadata": {
        "id": "SNon88l_0m9u",
        "colab_type": "code",
        "colab": {}
      },
      "source": [
        "test['distance']=test.apply(lambda row: great_circle((row.pickup_latitude,row.pickup_longitude), (row.dropoff_latitude, row.dropoff_longitude)).km, axis=1)\n"
      ],
      "execution_count": null,
      "outputs": []
    },
    {
      "cell_type": "code",
      "metadata": {
        "id": "C1F3GdveaeHs",
        "colab_type": "code",
        "colab": {
          "base_uri": "https://localhost:8080/",
          "height": 309
        },
        "outputId": "4cdd5468-cc8f-4338-ae64-d19ad1c7a6b2"
      },
      "source": [
        "train.head()"
      ],
      "execution_count": null,
      "outputs": [
        {
          "output_type": "execute_result",
          "data": {
            "text/html": [
              "<div>\n",
              "<style scoped>\n",
              "    .dataframe tbody tr th:only-of-type {\n",
              "        vertical-align: middle;\n",
              "    }\n",
              "\n",
              "    .dataframe tbody tr th {\n",
              "        vertical-align: top;\n",
              "    }\n",
              "\n",
              "    .dataframe thead th {\n",
              "        text-align: right;\n",
              "    }\n",
              "</style>\n",
              "<table border=\"1\" class=\"dataframe\">\n",
              "  <thead>\n",
              "    <tr style=\"text-align: right;\">\n",
              "      <th></th>\n",
              "      <th>id</th>\n",
              "      <th>vendor_id</th>\n",
              "      <th>pickup_datetime</th>\n",
              "      <th>dropoff_datetime</th>\n",
              "      <th>passenger_count</th>\n",
              "      <th>pickup_longitude</th>\n",
              "      <th>pickup_latitude</th>\n",
              "      <th>dropoff_longitude</th>\n",
              "      <th>dropoff_latitude</th>\n",
              "      <th>store_and_fwd_flag</th>\n",
              "      <th>trip_duration</th>\n",
              "      <th>distance</th>\n",
              "    </tr>\n",
              "  </thead>\n",
              "  <tbody>\n",
              "    <tr>\n",
              "      <th>0</th>\n",
              "      <td>id2875421</td>\n",
              "      <td>2</td>\n",
              "      <td>2016-03-14 17:24:55</td>\n",
              "      <td>2016-03-14 17:32:30</td>\n",
              "      <td>1</td>\n",
              "      <td>-73.982155</td>\n",
              "      <td>40.767937</td>\n",
              "      <td>-73.964630</td>\n",
              "      <td>40.765602</td>\n",
              "      <td>N</td>\n",
              "      <td>455</td>\n",
              "      <td>1.498523</td>\n",
              "    </tr>\n",
              "    <tr>\n",
              "      <th>1</th>\n",
              "      <td>id2377394</td>\n",
              "      <td>1</td>\n",
              "      <td>2016-06-12 00:43:35</td>\n",
              "      <td>2016-06-12 00:54:38</td>\n",
              "      <td>1</td>\n",
              "      <td>-73.980415</td>\n",
              "      <td>40.738564</td>\n",
              "      <td>-73.999481</td>\n",
              "      <td>40.731152</td>\n",
              "      <td>N</td>\n",
              "      <td>663</td>\n",
              "      <td>1.805510</td>\n",
              "    </tr>\n",
              "    <tr>\n",
              "      <th>2</th>\n",
              "      <td>id3858529</td>\n",
              "      <td>2</td>\n",
              "      <td>2016-01-19 11:35:24</td>\n",
              "      <td>2016-01-19 12:10:48</td>\n",
              "      <td>1</td>\n",
              "      <td>-73.979027</td>\n",
              "      <td>40.763939</td>\n",
              "      <td>-74.005333</td>\n",
              "      <td>40.710087</td>\n",
              "      <td>N</td>\n",
              "      <td>2124</td>\n",
              "      <td>6.385108</td>\n",
              "    </tr>\n",
              "    <tr>\n",
              "      <th>3</th>\n",
              "      <td>id3504673</td>\n",
              "      <td>2</td>\n",
              "      <td>2016-04-06 19:32:31</td>\n",
              "      <td>2016-04-06 19:39:40</td>\n",
              "      <td>1</td>\n",
              "      <td>-74.010040</td>\n",
              "      <td>40.719971</td>\n",
              "      <td>-74.012268</td>\n",
              "      <td>40.706718</td>\n",
              "      <td>N</td>\n",
              "      <td>429</td>\n",
              "      <td>1.485501</td>\n",
              "    </tr>\n",
              "    <tr>\n",
              "      <th>4</th>\n",
              "      <td>id2181028</td>\n",
              "      <td>2</td>\n",
              "      <td>2016-03-26 13:30:55</td>\n",
              "      <td>2016-03-26 13:38:10</td>\n",
              "      <td>1</td>\n",
              "      <td>-73.973053</td>\n",
              "      <td>40.793209</td>\n",
              "      <td>-73.972923</td>\n",
              "      <td>40.782520</td>\n",
              "      <td>N</td>\n",
              "      <td>435</td>\n",
              "      <td>1.188590</td>\n",
              "    </tr>\n",
              "  </tbody>\n",
              "</table>\n",
              "</div>"
            ],
            "text/plain": [
              "          id  vendor_id  ... trip_duration  distance\n",
              "0  id2875421          2  ...           455  1.498523\n",
              "1  id2377394          1  ...           663  1.805510\n",
              "2  id3858529          2  ...          2124  6.385108\n",
              "3  id3504673          2  ...           429  1.485501\n",
              "4  id2181028          2  ...           435  1.188590\n",
              "\n",
              "[5 rows x 12 columns]"
            ]
          },
          "metadata": {
            "tags": []
          },
          "execution_count": 6
        }
      ]
    },
    {
      "cell_type": "code",
      "metadata": {
        "id": "oQue0rxHcaJv",
        "colab_type": "code",
        "colab": {}
      },
      "source": [
        "train['pickup_datetime']=pd.to_datetime(train['pickup_datetime'])\n",
        "train['dropoff_datetime']=pd.to_datetime(train['dropoff_datetime'])\n",
        "\n",
        "test['pickup_datetime']=pd.to_datetime(test['pickup_datetime'])\n"
      ],
      "execution_count": null,
      "outputs": []
    },
    {
      "cell_type": "code",
      "metadata": {
        "id": "wAslib6woeEB",
        "colab_type": "code",
        "colab": {
          "base_uri": "https://localhost:8080/",
          "height": 296
        },
        "outputId": "2aaf010d-b8c4-4804-801b-a2e65940dd17"
      },
      "source": [
        "sns.distplot(train['passenger_count'],kde=False)\n",
        "plt.title('Distribution of Passenger Count')\n",
        "plt.show()"
      ],
      "execution_count": null,
      "outputs": [
        {
          "output_type": "display_data",
          "data": {
            "image/png": "[encoded data removed]",
            "text/plain": [
              "<Figure size 432x288 with 1 Axes>"
            ]
          },
          "metadata": {
            "tags": []
          }
        }
      ]
    },
    {
      "cell_type": "code",
      "metadata": {
        "id": "xUqlh7ETSJao",
        "colab_type": "code",
        "colab": {
          "base_uri": "https://localhost:8080/",
          "height": 309
        },
        "outputId": "f896f775-419c-4a42-8e39-36f3a73823b8"
      },
      "source": [
        "train['pickup_day']=train['pickup_datetime'].dt.day_name()\n",
        "train['dropoff_day']=train['dropoff_datetime'].dt.day_name()\n",
        "\n",
        "\n",
        "test['pickup_day']=test['pickup_datetime'].dt.day_name()\n",
        "train.head()\n"
      ],
      "execution_count": null,
      "outputs": [
        {
          "output_type": "execute_result",
          "data": {
            "text/html": [
              "<div>\n",
              "<style scoped>\n",
              "    .dataframe tbody tr th:only-of-type {\n",
              "        vertical-align: middle;\n",
              "    }\n",
              "\n",
              "    .dataframe tbody tr th {\n",
              "        vertical-align: top;\n",
              "    }\n",
              "\n",
              "    .dataframe thead th {\n",
              "        text-align: right;\n",
              "    }\n",
              "</style>\n",
              "<table border=\"1\" class=\"dataframe\">\n",
              "  <thead>\n",
              "    <tr style=\"text-align: right;\">\n",
              "      <th></th>\n",
              "      <th>id</th>\n",
              "      <th>vendor_id</th>\n",
              "      <th>pickup_datetime</th>\n",
              "      <th>dropoff_datetime</th>\n",
              "      <th>passenger_count</th>\n",
              "      <th>pickup_longitude</th>\n",
              "      <th>pickup_latitude</th>\n",
              "      <th>dropoff_longitude</th>\n",
              "      <th>dropoff_latitude</th>\n",
              "      <th>store_and_fwd_flag</th>\n",
              "      <th>trip_duration</th>\n",
              "      <th>distance</th>\n",
              "      <th>pickup_day</th>\n",
              "      <th>dropoff_day</th>\n",
              "    </tr>\n",
              "  </thead>\n",
              "  <tbody>\n",
              "    <tr>\n",
              "      <th>0</th>\n",
              "      <td>id2875421</td>\n",
              "      <td>2</td>\n",
              "      <td>2016-03-14 17:24:55</td>\n",
              "      <td>2016-03-14 17:32:30</td>\n",
              "      <td>1</td>\n",
              "      <td>-73.982155</td>\n",
              "      <td>40.767937</td>\n",
              "      <td>-73.964630</td>\n",
              "      <td>40.765602</td>\n",
              "      <td>N</td>\n",
              "      <td>455</td>\n",
              "      <td>1.498523</td>\n",
              "      <td>Monday</td>\n",
              "      <td>Monday</td>\n",
              "    </tr>\n",
              "    <tr>\n",
              "      <th>1</th>\n",
              "      <td>id2377394</td>\n",
              "      <td>1</td>\n",
              "      <td>2016-06-12 00:43:35</td>\n",
              "      <td>2016-06-12 00:54:38</td>\n",
              "      <td>1</td>\n",
              "      <td>-73.980415</td>\n",
              "      <td>40.738564</td>\n",
              "      <td>-73.999481</td>\n",
              "      <td>40.731152</td>\n",
              "      <td>N</td>\n",
              "      <td>663</td>\n",
              "      <td>1.805510</td>\n",
              "      <td>Sunday</td>\n",
              "      <td>Sunday</td>\n",
              "    </tr>\n",
              "    <tr>\n",
              "      <th>2</th>\n",
              "      <td>id3858529</td>\n",
              "      <td>2</td>\n",
              "      <td>2016-01-19 11:35:24</td>\n",
              "      <td>2016-01-19 12:10:48</td>\n",
              "      <td>1</td>\n",
              "      <td>-73.979027</td>\n",
              "      <td>40.763939</td>\n",
              "      <td>-74.005333</td>\n",
              "      <td>40.710087</td>\n",
              "      <td>N</td>\n",
              "      <td>2124</td>\n",
              "      <td>6.385108</td>\n",
              "      <td>Tuesday</td>\n",
              "      <td>Tuesday</td>\n",
              "    </tr>\n",
              "    <tr>\n",
              "      <th>3</th>\n",
              "      <td>id3504673</td>\n",
              "      <td>2</td>\n",
              "      <td>2016-04-06 19:32:31</td>\n",
              "      <td>2016-04-06 19:39:40</td>\n",
              "      <td>1</td>\n",
              "      <td>-74.010040</td>\n",
              "      <td>40.719971</td>\n",
              "      <td>-74.012268</td>\n",
              "      <td>40.706718</td>\n",
              "      <td>N</td>\n",
              "      <td>429</td>\n",
              "      <td>1.485501</td>\n",
              "      <td>Wednesday</td>\n",
              "      <td>Wednesday</td>\n",
              "    </tr>\n",
              "    <tr>\n",
              "      <th>4</th>\n",
              "      <td>id2181028</td>\n",
              "      <td>2</td>\n",
              "      <td>2016-03-26 13:30:55</td>\n",
              "      <td>2016-03-26 13:38:10</td>\n",
              "      <td>1</td>\n",
              "      <td>-73.973053</td>\n",
              "      <td>40.793209</td>\n",
              "      <td>-73.972923</td>\n",
              "      <td>40.782520</td>\n",
              "      <td>N</td>\n",
              "      <td>435</td>\n",
              "      <td>1.188590</td>\n",
              "      <td>Saturday</td>\n",
              "      <td>Saturday</td>\n",
              "    </tr>\n",
              "  </tbody>\n",
              "</table>\n",
              "</div>"
            ],
            "text/plain": [
              "          id  vendor_id     pickup_datetime  ...  distance  pickup_day  dropoff_day\n",
              "0  id2875421          2 2016-03-14 17:24:55  ...  1.498523      Monday       Monday\n",
              "1  id2377394          1 2016-06-12 00:43:35  ...  1.805510      Sunday       Sunday\n",
              "2  id3858529          2 2016-01-19 11:35:24  ...  6.385108     Tuesday      Tuesday\n",
              "3  id3504673          2 2016-04-06 19:32:31  ...  1.485501   Wednesday    Wednesday\n",
              "4  id2181028          2 2016-03-26 13:30:55  ...  1.188590    Saturday     Saturday\n",
              "\n",
              "[5 rows x 14 columns]"
            ]
          },
          "metadata": {
            "tags": []
          },
          "execution_count": 7
        }
      ]
    },
    {
      "cell_type": "code",
      "metadata": {
        "id": "vpANk672Sw6J",
        "colab_type": "code",
        "colab": {
          "base_uri": "https://localhost:8080/",
          "height": 331
        },
        "outputId": "a79a0b89-d687-4d9f-a3dc-d15c44219a5c"
      },
      "source": [
        "train.pickup_day.value_counts(normalize=False).plot(kind='bar', alpha=0.5)"
      ],
      "execution_count": null,
      "outputs": [
        {
          "output_type": "execute_result",
          "data": {
            "text/plain": [
              "<matplotlib.axes._subplots.AxesSubplot at 0x7f9b6fb11da0>"
            ]
          },
          "metadata": {
            "tags": []
          },
          "execution_count": 11
        },
        {
          "output_type": "display_data",
          "data": {
            "image/png": "[encoded data removed]",
            "text/plain": [
              "<Figure size 432x288 with 1 Axes>"
            ]
          },
          "metadata": {
            "tags": []
          }
        }
      ]
    },
    {
      "cell_type": "code",
      "metadata": {
        "id": "hZFluoCMVlk7",
        "colab_type": "code",
        "colab": {
          "base_uri": "https://localhost:8080/",
          "height": 331
        },
        "outputId": "5ef635a3-ccb7-4875-99d6-1a1577898333"
      },
      "source": [
        "train.dropoff_day.value_counts(normalize=False).plot(kind='bar', alpha=0.5)"
      ],
      "execution_count": null,
      "outputs": [
        {
          "output_type": "execute_result",
          "data": {
            "text/plain": [
              "<matplotlib.axes._subplots.AxesSubplot at 0x7f9b7b847a20>"
            ]
          },
          "metadata": {
            "tags": []
          },
          "execution_count": 12
        },
        {
          "output_type": "display_data",
          "data": {
            "image/png": "[encoded data removed]",
            "text/plain": [
              "<Figure size 432x288 with 1 Axes>"
            ]
          },
          "metadata": {
            "tags": []
          }
        }
      ]
    },
    {
      "cell_type": "code",
      "metadata": {
        "id": "qtcqb3w0nCnp",
        "colab_type": "code",
        "colab": {}
      },
      "source": [
        "def timezone(x):\n",
        "    if x>=datetime.time(4, 0, 1) and x <=datetime.time(10, 0, 0):\n",
        "        return 'morning'\n",
        "    elif x>=datetime.time(10, 0, 1) and x <=datetime.time(16, 0, 0):\n",
        "        return 'midday'\n",
        "    elif x>=datetime.time(16, 0, 1) and x <=datetime.time(22, 0, 0):\n",
        "        return 'evening'\n",
        "    elif x>=datetime.time(22, 0, 1) or x <=datetime.time(4, 0, 0):\n",
        "        return 'late night'\n",
        "    \n",
        "train['pickup_timezone']=train['pickup_datetime'].apply(lambda x :timezone(datetime.datetime.strptime(str(x), \"%Y-%m-%d %H:%M:%S\").time()) )\n",
        "train['dropoff_timezone']=train['dropoff_datetime'].apply(lambda x :timezone(datetime.datetime.strptime(str(x), \"%Y-%m-%d %H:%M:%S\").time()) )\n",
        "\n",
        "test['pickup_timezone']=test['pickup_datetime'].apply(lambda x :timezone(datetime.datetime.strptime(str(x), \"%Y-%m-%d %H:%M:%S\").time()) )"
      ],
      "execution_count": null,
      "outputs": []
    },
    {
      "cell_type": "code",
      "metadata": {
        "id": "_x5LQ7vetGTk",
        "colab_type": "code",
        "colab": {
          "base_uri": "https://localhost:8080/",
          "height": 309
        },
        "outputId": "21598949-18d2-4e06-e132-452e8673bab8"
      },
      "source": [
        "train.head()"
      ],
      "execution_count": null,
      "outputs": [
        {
          "output_type": "execute_result",
          "data": {
            "text/html": [
              "<div>\n",
              "<style scoped>\n",
              "    .dataframe tbody tr th:only-of-type {\n",
              "        vertical-align: middle;\n",
              "    }\n",
              "\n",
              "    .dataframe tbody tr th {\n",
              "        vertical-align: top;\n",
              "    }\n",
              "\n",
              "    .dataframe thead th {\n",
              "        text-align: right;\n",
              "    }\n",
              "</style>\n",
              "<table border=\"1\" class=\"dataframe\">\n",
              "  <thead>\n",
              "    <tr style=\"text-align: right;\">\n",
              "      <th></th>\n",
              "      <th>id</th>\n",
              "      <th>vendor_id</th>\n",
              "      <th>pickup_datetime</th>\n",
              "      <th>dropoff_datetime</th>\n",
              "      <th>passenger_count</th>\n",
              "      <th>pickup_longitude</th>\n",
              "      <th>pickup_latitude</th>\n",
              "      <th>dropoff_longitude</th>\n",
              "      <th>dropoff_latitude</th>\n",
              "      <th>store_and_fwd_flag</th>\n",
              "      <th>trip_duration</th>\n",
              "      <th>distance</th>\n",
              "      <th>pickup_day</th>\n",
              "      <th>dropoff_day</th>\n",
              "      <th>pickup_timezone</th>\n",
              "      <th>dropoff_timezone</th>\n",
              "    </tr>\n",
              "  </thead>\n",
              "  <tbody>\n",
              "    <tr>\n",
              "      <th>0</th>\n",
              "      <td>id2875421</td>\n",
              "      <td>2</td>\n",
              "      <td>2016-03-14 17:24:55</td>\n",
              "      <td>2016-03-14 17:32:30</td>\n",
              "      <td>1</td>\n",
              "      <td>-73.982155</td>\n",
              "      <td>40.767937</td>\n",
              "      <td>-73.964630</td>\n",
              "      <td>40.765602</td>\n",
              "      <td>N</td>\n",
              "      <td>455</td>\n",
              "      <td>1.498523</td>\n",
              "      <td>Monday</td>\n",
              "      <td>Monday</td>\n",
              "      <td>evening</td>\n",
              "      <td>evening</td>\n",
              "    </tr>\n",
              "    <tr>\n",
              "      <th>1</th>\n",
              "      <td>id2377394</td>\n",
              "      <td>1</td>\n",
              "      <td>2016-06-12 00:43:35</td>\n",
              "      <td>2016-06-12 00:54:38</td>\n",
              "      <td>1</td>\n",
              "      <td>-73.980415</td>\n",
              "      <td>40.738564</td>\n",
              "      <td>-73.999481</td>\n",
              "      <td>40.731152</td>\n",
              "      <td>N</td>\n",
              "      <td>663</td>\n",
              "      <td>1.805510</td>\n",
              "      <td>Sunday</td>\n",
              "      <td>Sunday</td>\n",
              "      <td>late night</td>\n",
              "      <td>late night</td>\n",
              "    </tr>\n",
              "    <tr>\n",
              "      <th>2</th>\n",
              "      <td>id3858529</td>\n",
              "      <td>2</td>\n",
              "      <td>2016-01-19 11:35:24</td>\n",
              "      <td>2016-01-19 12:10:48</td>\n",
              "      <td>1</td>\n",
              "      <td>-73.979027</td>\n",
              "      <td>40.763939</td>\n",
              "      <td>-74.005333</td>\n",
              "      <td>40.710087</td>\n",
              "      <td>N</td>\n",
              "      <td>2124</td>\n",
              "      <td>6.385108</td>\n",
              "      <td>Tuesday</td>\n",
              "      <td>Tuesday</td>\n",
              "      <td>midday</td>\n",
              "      <td>midday</td>\n",
              "    </tr>\n",
              "    <tr>\n",
              "      <th>3</th>\n",
              "      <td>id3504673</td>\n",
              "      <td>2</td>\n",
              "      <td>2016-04-06 19:32:31</td>\n",
              "      <td>2016-04-06 19:39:40</td>\n",
              "      <td>1</td>\n",
              "      <td>-74.010040</td>\n",
              "      <td>40.719971</td>\n",
              "      <td>-74.012268</td>\n",
              "      <td>40.706718</td>\n",
              "      <td>N</td>\n",
              "      <td>429</td>\n",
              "      <td>1.485501</td>\n",
              "      <td>Wednesday</td>\n",
              "      <td>Wednesday</td>\n",
              "      <td>evening</td>\n",
              "      <td>evening</td>\n",
              "    </tr>\n",
              "    <tr>\n",
              "      <th>4</th>\n",
              "      <td>id2181028</td>\n",
              "      <td>2</td>\n",
              "      <td>2016-03-26 13:30:55</td>\n",
              "      <td>2016-03-26 13:38:10</td>\n",
              "      <td>1</td>\n",
              "      <td>-73.973053</td>\n",
              "      <td>40.793209</td>\n",
              "      <td>-73.972923</td>\n",
              "      <td>40.782520</td>\n",
              "      <td>N</td>\n",
              "      <td>435</td>\n",
              "      <td>1.188590</td>\n",
              "      <td>Saturday</td>\n",
              "      <td>Saturday</td>\n",
              "      <td>midday</td>\n",
              "      <td>midday</td>\n",
              "    </tr>\n",
              "  </tbody>\n",
              "</table>\n",
              "</div>"
            ],
            "text/plain": [
              "          id  vendor_id  ... pickup_timezone dropoff_timezone\n",
              "0  id2875421          2  ...         evening          evening\n",
              "1  id2377394          1  ...      late night       late night\n",
              "2  id3858529          2  ...          midday           midday\n",
              "3  id3504673          2  ...         evening          evening\n",
              "4  id2181028          2  ...          midday           midday\n",
              "\n",
              "[5 rows x 16 columns]"
            ]
          },
          "metadata": {
            "tags": []
          },
          "execution_count": 10
        }
      ]
    },
    {
      "cell_type": "code",
      "metadata": {
        "id": "0HGbtMsRurRZ",
        "colab_type": "code",
        "colab": {
          "base_uri": "https://localhost:8080/",
          "height": 320
        },
        "outputId": "da3aba41-c249-431c-c1ec-79e877843791"
      },
      "source": [
        "train.pickup_timezone.value_counts(normalize=False).plot(kind='bar', alpha=0.5)\n"
      ],
      "execution_count": null,
      "outputs": [
        {
          "output_type": "execute_result",
          "data": {
            "text/plain": [
              "<matplotlib.axes._subplots.AxesSubplot at 0x7f9c50350a58>"
            ]
          },
          "metadata": {
            "tags": []
          },
          "execution_count": 12
        },
        {
          "output_type": "display_data",
          "data": {
            "image/png": "[encoded data removed]",
            "text/plain": [
              "<Figure size 432x288 with 1 Axes>"
            ]
          },
          "metadata": {
            "tags": []
          }
        }
      ]
    },
    {
      "cell_type": "code",
      "metadata": {
        "id": "knlNHXglvYlx",
        "colab_type": "code",
        "colab": {
          "base_uri": "https://localhost:8080/",
          "height": 320
        },
        "outputId": "c93431c2-7eb1-46bf-c9f2-63ebe077b41b"
      },
      "source": [
        "train.dropoff_timezone.value_counts(normalize=False).plot(kind='bar', alpha=0.5)"
      ],
      "execution_count": null,
      "outputs": [
        {
          "output_type": "execute_result",
          "data": {
            "text/plain": [
              "<matplotlib.axes._subplots.AxesSubplot at 0x7f9b6f25cb38>"
            ]
          },
          "metadata": {
            "tags": []
          },
          "execution_count": 16
        },
        {
          "output_type": "display_data",
          "data": {
            "image/png": "[encoded data removed]",
            "text/plain": [
              "<Figure size 432x288 with 1 Axes>"
            ]
          },
          "metadata": {
            "tags": []
          }
        }
      ]
    },
    {
      "cell_type": "code",
      "metadata": {
        "id": "boGadOxBvgWb",
        "colab_type": "code",
        "colab": {
          "base_uri": "https://localhost:8080/",
          "height": 313
        },
        "outputId": "eabaf717-7feb-4775-e0d1-aa9a666bf18a"
      },
      "source": [
        "sns.boxplot(train['trip_duration'], orient='horizontal')\n",
        "plt.title('A boxplot depicting the pickup duration distribution')"
      ],
      "execution_count": null,
      "outputs": [
        {
          "output_type": "execute_result",
          "data": {
            "text/plain": [
              "Text(0.5, 1.0, 'A boxplot depicting the pickup duration distribution')"
            ]
          },
          "metadata": {
            "tags": []
          },
          "execution_count": 17
        },
        {
          "output_type": "display_data",
          "data": {
            "image/png": "[encoded data removed]",
            "text/plain": [
              "<Figure size 432x288 with 1 Axes>"
            ]
          },
          "metadata": {
            "tags": []
          }
        }
      ]
    },
    {
      "cell_type": "code",
      "metadata": {
        "id": "TO_wtYX43Pax",
        "colab_type": "code",
        "colab": {
          "base_uri": "https://localhost:8080/",
          "height": 204
        },
        "outputId": "7f771a17-fc35-49f4-833e-54ac4d79b626"
      },
      "source": [
        "print( train['trip_duration'].nlargest(10))"
      ],
      "execution_count": null,
      "outputs": [
        {
          "output_type": "stream",
          "text": [
            "978383     3526282\n",
            "924150     2227612\n",
            "680594     2049578\n",
            "355003     1939736\n",
            "1234291      86392\n",
            "295382       86391\n",
            "73816        86390\n",
            "59891        86387\n",
            "1360439      86385\n",
            "753765       86379\n",
            "Name: trip_duration, dtype: int64\n"
          ],
          "name": "stdout"
        }
      ]
    },
    {
      "cell_type": "code",
      "metadata": {
        "id": "FJnM0wr13coh",
        "colab_type": "code",
        "colab": {}
      },
      "source": [
        "train=train[train.trip_duration!=train.trip_duration.max()]"
      ],
      "execution_count": null,
      "outputs": []
    },
    {
      "cell_type": "code",
      "metadata": {
        "id": "uy2WimJp5XuM",
        "colab_type": "code",
        "colab": {
          "base_uri": "https://localhost:8080/",
          "height": 204
        },
        "outputId": "b204bbcf-8f88-48e3-b880-261fbfda47be"
      },
      "source": [
        "print( train['trip_duration'].nlargest(10))"
      ],
      "execution_count": null,
      "outputs": [
        {
          "output_type": "stream",
          "text": [
            "924150     2227612\n",
            "680594     2049578\n",
            "355003     1939736\n",
            "1234291      86392\n",
            "295382       86391\n",
            "73816        86390\n",
            "59891        86387\n",
            "1360439      86385\n",
            "753765       86379\n",
            "91717        86378\n",
            "Name: trip_duration, dtype: int64\n"
          ],
          "name": "stdout"
        }
      ]
    },
    {
      "cell_type": "code",
      "metadata": {
        "id": "rcnnWIQC5Z2g",
        "colab_type": "code",
        "colab": {
          "base_uri": "https://localhost:8080/",
          "height": 204
        },
        "outputId": "926c49e1-7021-4936-b42b-d4067bc52dfd"
      },
      "source": [
        "train=train[train.trip_duration!=train.trip_duration.max()]\n",
        "train=train[train.trip_duration!=train.trip_duration.max()]\n",
        "train=train[train.trip_duration!=train.trip_duration.max()]\n",
        "print( train['trip_duration'].nlargest(10))"
      ],
      "execution_count": null,
      "outputs": [
        {
          "output_type": "stream",
          "text": [
            "1234291    86392\n",
            "295382     86391\n",
            "73816      86390\n",
            "59891      86387\n",
            "1360439    86385\n",
            "753765     86379\n",
            "91717      86378\n",
            "1221666    86378\n",
            "66346      86377\n",
            "1138915    86377\n",
            "Name: trip_duration, dtype: int64\n"
          ],
          "name": "stdout"
        }
      ]
    },
    {
      "cell_type": "code",
      "metadata": {
        "id": "4HVRjdPU5eEf",
        "colab_type": "code",
        "colab": {
          "base_uri": "https://localhost:8080/",
          "height": 386
        },
        "outputId": "58062165-644d-41ab-fe77-e529102b0e00"
      },
      "source": [
        "sns.relplot(x=\"passenger_count\", y=\"trip_duration\",data=train, kind=\"scatter\")"
      ],
      "execution_count": null,
      "outputs": [
        {
          "output_type": "execute_result",
          "data": {
            "text/plain": [
              "<seaborn.axisgrid.FacetGrid at 0x7f4644ad9320>"
            ]
          },
          "metadata": {
            "tags": []
          },
          "execution_count": 15
        },
        {
          "output_type": "display_data",
          "data": {
            "image/png": "[encoded data removed]",
            "text/plain": [
              "<Figure size 360x360 with 1 Axes>"
            ]
          },
          "metadata": {
            "tags": []
          }
        }
      ]
    },
    {
      "cell_type": "code",
      "metadata": {
        "id": "xJbJCp368JPV",
        "colab_type": "code",
        "colab": {
          "base_uri": "https://localhost:8080/",
          "height": 309
        },
        "outputId": "5f9bc970-8c0c-4d05-b0cc-34989186e478"
      },
      "source": [
        "train.head()"
      ],
      "execution_count": null,
      "outputs": [
        {
          "output_type": "execute_result",
          "data": {
            "text/html": [
              "<div>\n",
              "<style scoped>\n",
              "    .dataframe tbody tr th:only-of-type {\n",
              "        vertical-align: middle;\n",
              "    }\n",
              "\n",
              "    .dataframe tbody tr th {\n",
              "        vertical-align: top;\n",
              "    }\n",
              "\n",
              "    .dataframe thead th {\n",
              "        text-align: right;\n",
              "    }\n",
              "</style>\n",
              "<table border=\"1\" class=\"dataframe\">\n",
              "  <thead>\n",
              "    <tr style=\"text-align: right;\">\n",
              "      <th></th>\n",
              "      <th>id</th>\n",
              "      <th>vendor_id</th>\n",
              "      <th>pickup_datetime</th>\n",
              "      <th>dropoff_datetime</th>\n",
              "      <th>passenger_count</th>\n",
              "      <th>pickup_longitude</th>\n",
              "      <th>pickup_latitude</th>\n",
              "      <th>dropoff_longitude</th>\n",
              "      <th>dropoff_latitude</th>\n",
              "      <th>store_and_fwd_flag</th>\n",
              "      <th>trip_duration</th>\n",
              "      <th>distance</th>\n",
              "      <th>pickup_day</th>\n",
              "      <th>dropoff_day</th>\n",
              "      <th>pickup_timezone</th>\n",
              "      <th>dropoff_timezone</th>\n",
              "    </tr>\n",
              "  </thead>\n",
              "  <tbody>\n",
              "    <tr>\n",
              "      <th>0</th>\n",
              "      <td>id2875421</td>\n",
              "      <td>2</td>\n",
              "      <td>2016-03-14 17:24:55</td>\n",
              "      <td>2016-03-14 17:32:30</td>\n",
              "      <td>1</td>\n",
              "      <td>-73.982155</td>\n",
              "      <td>40.767937</td>\n",
              "      <td>-73.964630</td>\n",
              "      <td>40.765602</td>\n",
              "      <td>N</td>\n",
              "      <td>455</td>\n",
              "      <td>1.498523</td>\n",
              "      <td>Monday</td>\n",
              "      <td>Monday</td>\n",
              "      <td>evening</td>\n",
              "      <td>evening</td>\n",
              "    </tr>\n",
              "    <tr>\n",
              "      <th>1</th>\n",
              "      <td>id2377394</td>\n",
              "      <td>1</td>\n",
              "      <td>2016-06-12 00:43:35</td>\n",
              "      <td>2016-06-12 00:54:38</td>\n",
              "      <td>1</td>\n",
              "      <td>-73.980415</td>\n",
              "      <td>40.738564</td>\n",
              "      <td>-73.999481</td>\n",
              "      <td>40.731152</td>\n",
              "      <td>N</td>\n",
              "      <td>663</td>\n",
              "      <td>1.805510</td>\n",
              "      <td>Sunday</td>\n",
              "      <td>Sunday</td>\n",
              "      <td>late night</td>\n",
              "      <td>late night</td>\n",
              "    </tr>\n",
              "    <tr>\n",
              "      <th>2</th>\n",
              "      <td>id3858529</td>\n",
              "      <td>2</td>\n",
              "      <td>2016-01-19 11:35:24</td>\n",
              "      <td>2016-01-19 12:10:48</td>\n",
              "      <td>1</td>\n",
              "      <td>-73.979027</td>\n",
              "      <td>40.763939</td>\n",
              "      <td>-74.005333</td>\n",
              "      <td>40.710087</td>\n",
              "      <td>N</td>\n",
              "      <td>2124</td>\n",
              "      <td>6.385108</td>\n",
              "      <td>Tuesday</td>\n",
              "      <td>Tuesday</td>\n",
              "      <td>midday</td>\n",
              "      <td>midday</td>\n",
              "    </tr>\n",
              "    <tr>\n",
              "      <th>3</th>\n",
              "      <td>id3504673</td>\n",
              "      <td>2</td>\n",
              "      <td>2016-04-06 19:32:31</td>\n",
              "      <td>2016-04-06 19:39:40</td>\n",
              "      <td>1</td>\n",
              "      <td>-74.010040</td>\n",
              "      <td>40.719971</td>\n",
              "      <td>-74.012268</td>\n",
              "      <td>40.706718</td>\n",
              "      <td>N</td>\n",
              "      <td>429</td>\n",
              "      <td>1.485501</td>\n",
              "      <td>Wednesday</td>\n",
              "      <td>Wednesday</td>\n",
              "      <td>evening</td>\n",
              "      <td>evening</td>\n",
              "    </tr>\n",
              "    <tr>\n",
              "      <th>4</th>\n",
              "      <td>id2181028</td>\n",
              "      <td>2</td>\n",
              "      <td>2016-03-26 13:30:55</td>\n",
              "      <td>2016-03-26 13:38:10</td>\n",
              "      <td>1</td>\n",
              "      <td>-73.973053</td>\n",
              "      <td>40.793209</td>\n",
              "      <td>-73.972923</td>\n",
              "      <td>40.782520</td>\n",
              "      <td>N</td>\n",
              "      <td>435</td>\n",
              "      <td>1.188590</td>\n",
              "      <td>Saturday</td>\n",
              "      <td>Saturday</td>\n",
              "      <td>midday</td>\n",
              "      <td>midday</td>\n",
              "    </tr>\n",
              "  </tbody>\n",
              "</table>\n",
              "</div>"
            ],
            "text/plain": [
              "          id  vendor_id  ... pickup_timezone dropoff_timezone\n",
              "0  id2875421          2  ...         evening          evening\n",
              "1  id2377394          1  ...      late night       late night\n",
              "2  id3858529          2  ...          midday           midday\n",
              "3  id3504673          2  ...         evening          evening\n",
              "4  id2181028          2  ...          midday           midday\n",
              "\n",
              "[5 rows x 16 columns]"
            ]
          },
          "metadata": {
            "tags": []
          },
          "execution_count": 13
        }
      ]
    },
    {
      "cell_type": "code",
      "metadata": {
        "id": "TYdYMxF_DgHR",
        "colab_type": "code",
        "colab": {}
      },
      "source": [
        "#train['trip_duration']=train['trip_duration'].apply(lambda x:x/3600)"
      ],
      "execution_count": null,
      "outputs": []
    },
    {
      "cell_type": "code",
      "metadata": {
        "id": "T4l1FVILDqVe",
        "colab_type": "code",
        "colab": {
          "base_uri": "https://localhost:8080/",
          "height": 309
        },
        "outputId": "5abacd17-1761-4ba9-d17a-b2931c614b39"
      },
      "source": [
        "test.head()"
      ],
      "execution_count": null,
      "outputs": [
        {
          "output_type": "execute_result",
          "data": {
            "text/html": [
              "<div>\n",
              "<style scoped>\n",
              "    .dataframe tbody tr th:only-of-type {\n",
              "        vertical-align: middle;\n",
              "    }\n",
              "\n",
              "    .dataframe tbody tr th {\n",
              "        vertical-align: top;\n",
              "    }\n",
              "\n",
              "    .dataframe thead th {\n",
              "        text-align: right;\n",
              "    }\n",
              "</style>\n",
              "<table border=\"1\" class=\"dataframe\">\n",
              "  <thead>\n",
              "    <tr style=\"text-align: right;\">\n",
              "      <th></th>\n",
              "      <th>id</th>\n",
              "      <th>vendor_id</th>\n",
              "      <th>pickup_datetime</th>\n",
              "      <th>passenger_count</th>\n",
              "      <th>pickup_longitude</th>\n",
              "      <th>pickup_latitude</th>\n",
              "      <th>dropoff_longitude</th>\n",
              "      <th>dropoff_latitude</th>\n",
              "      <th>store_and_fwd_flag</th>\n",
              "      <th>distance</th>\n",
              "      <th>pickup_day</th>\n",
              "      <th>pickup_timezone</th>\n",
              "    </tr>\n",
              "  </thead>\n",
              "  <tbody>\n",
              "    <tr>\n",
              "      <th>0</th>\n",
              "      <td>id3004672</td>\n",
              "      <td>1</td>\n",
              "      <td>2016-06-30 23:59:58</td>\n",
              "      <td>1</td>\n",
              "      <td>-73.988129</td>\n",
              "      <td>40.732029</td>\n",
              "      <td>-73.990173</td>\n",
              "      <td>40.756680</td>\n",
              "      <td>N</td>\n",
              "      <td>2.746430</td>\n",
              "      <td>Thursday</td>\n",
              "      <td>late night</td>\n",
              "    </tr>\n",
              "    <tr>\n",
              "      <th>1</th>\n",
              "      <td>id3505355</td>\n",
              "      <td>1</td>\n",
              "      <td>2016-06-30 23:59:53</td>\n",
              "      <td>1</td>\n",
              "      <td>-73.964203</td>\n",
              "      <td>40.679993</td>\n",
              "      <td>-73.959808</td>\n",
              "      <td>40.655403</td>\n",
              "      <td>N</td>\n",
              "      <td>2.759243</td>\n",
              "      <td>Thursday</td>\n",
              "      <td>late night</td>\n",
              "    </tr>\n",
              "    <tr>\n",
              "      <th>2</th>\n",
              "      <td>id1217141</td>\n",
              "      <td>1</td>\n",
              "      <td>2016-06-30 23:59:47</td>\n",
              "      <td>1</td>\n",
              "      <td>-73.997437</td>\n",
              "      <td>40.737583</td>\n",
              "      <td>-73.986160</td>\n",
              "      <td>40.729523</td>\n",
              "      <td>N</td>\n",
              "      <td>1.306157</td>\n",
              "      <td>Thursday</td>\n",
              "      <td>late night</td>\n",
              "    </tr>\n",
              "    <tr>\n",
              "      <th>3</th>\n",
              "      <td>id2150126</td>\n",
              "      <td>2</td>\n",
              "      <td>2016-06-30 23:59:41</td>\n",
              "      <td>1</td>\n",
              "      <td>-73.956070</td>\n",
              "      <td>40.771900</td>\n",
              "      <td>-73.986427</td>\n",
              "      <td>40.730469</td>\n",
              "      <td>N</td>\n",
              "      <td>5.269095</td>\n",
              "      <td>Thursday</td>\n",
              "      <td>late night</td>\n",
              "    </tr>\n",
              "    <tr>\n",
              "      <th>4</th>\n",
              "      <td>id1598245</td>\n",
              "      <td>1</td>\n",
              "      <td>2016-06-30 23:59:33</td>\n",
              "      <td>1</td>\n",
              "      <td>-73.970215</td>\n",
              "      <td>40.761475</td>\n",
              "      <td>-73.961510</td>\n",
              "      <td>40.755890</td>\n",
              "      <td>N</td>\n",
              "      <td>0.960843</td>\n",
              "      <td>Thursday</td>\n",
              "      <td>late night</td>\n",
              "    </tr>\n",
              "  </tbody>\n",
              "</table>\n",
              "</div>"
            ],
            "text/plain": [
              "          id  vendor_id  ... pickup_day  pickup_timezone\n",
              "0  id3004672          1  ...   Thursday       late night\n",
              "1  id3505355          1  ...   Thursday       late night\n",
              "2  id1217141          1  ...   Thursday       late night\n",
              "3  id2150126          2  ...   Thursday       late night\n",
              "4  id1598245          1  ...   Thursday       late night\n",
              "\n",
              "[5 rows x 12 columns]"
            ]
          },
          "metadata": {
            "tags": []
          },
          "execution_count": 17
        }
      ]
    },
    {
      "cell_type": "code",
      "metadata": {
        "id": "qDKU1QGCEfvt",
        "colab_type": "code",
        "colab": {
          "base_uri": "https://localhost:8080/",
          "height": 204
        },
        "outputId": "c1e2318c-b524-44cc-dd3b-1f4b1d9d242a"
      },
      "source": [
        "print( train['trip_duration'].nlargest(10))"
      ],
      "execution_count": null,
      "outputs": [
        {
          "output_type": "stream",
          "text": [
            "1234291    86392\n",
            "295382     86391\n",
            "73816      86390\n",
            "59891      86387\n",
            "1360439    86385\n",
            "753765     86379\n",
            "91717      86378\n",
            "1221666    86378\n",
            "66346      86377\n",
            "1138915    86377\n",
            "Name: trip_duration, dtype: int64\n"
          ],
          "name": "stdout"
        }
      ]
    },
    {
      "cell_type": "code",
      "metadata": {
        "id": "nC6JStMHFAYi",
        "colab_type": "code",
        "colab": {
          "base_uri": "https://localhost:8080/",
          "height": 71
        },
        "outputId": "46e4610a-1eb6-44c2-f6d1-88d71e4ce300"
      },
      "source": [
        "train.loc[train['store_and_fwd_flag']=='N', 'store_and_fwd_flag']=0\n",
        "train.loc[train['store_and_fwd_flag']=='Y', 'store_and_fwd_flag']=1\n",
        "test.loc[test['store_and_fwd_flag']=='N', 'store_and_fwd_flag']=0\n",
        "test.loc[test['store_and_fwd_flag']=='Y', 'store_and_fwd_flag']=1\n",
        "\n",
        "\n",
        "\n",
        "train.loc[train['pickup_day']=='Monday', 'pickup_day']=0\n",
        "train.loc[train['pickup_day']=='Tuesday', 'pickup_day']=1\n",
        "train.loc[train['pickup_day']=='Wednesday', 'pickup_day']=2\n",
        "train.loc[train['pickup_day']=='Thursday', 'pickup_day']=3\n",
        "train.loc[train['pickup_day']=='Friday', 'pickup_day']=4\n",
        "train.loc[train['pickup_day']=='Saturday', 'pickup_day']=5\n",
        "train.loc[train['pickup_day']=='Sunday', 'pickup_day']=6\n",
        "\n",
        "test.loc[test['pickup_day']=='Monday', 'pickup_day']=0\n",
        "test.loc[test['pickup_day']=='Tuesday', 'pickup_day']=1\n",
        "test.loc[test['pickup_day']=='Wednesday', 'pickup_day']=2\n",
        "test.loc[test['pickup_day']=='Thursday', 'pickup_day']=3\n",
        "test.loc[test['pickup_day']=='Friday', 'pickup_day']=4\n",
        "test.loc[test['pickup_day']=='Saturday', 'pickup_day']=5\n",
        "test.loc[test['pickup_day']=='Sunday', 'pickup_day']=6\n",
        "\n",
        "train.loc[train['dropoff_day']=='Monday', 'dropoff_day']=0\n",
        "train.loc[train['dropoff_day']=='Tuesday', 'dropoff_day']=1\n",
        "train.loc[train['dropoff_day']=='Wednesday', 'dropoff_day']=2\n",
        "train.loc[train['dropoff_day']=='Thursday', 'dropoff_day']=3\n",
        "train.loc[train['dropoff_day']=='Friday', 'dropoff_day']=4\n",
        "train.loc[train['dropoff_day']=='Saturday', 'dropoff_day']=5\n",
        "train.loc[train['dropoff_day']=='Sunday', 'dropoff_day']=6\n",
        "\n",
        "train.loc[train['pickup_timezone']=='morning', 'pickup_timezone']=0\n",
        "train.loc[train['pickup_timezone']=='midday', 'pickup_timezone']=1\n",
        "train.loc[train['pickup_timezone']=='evening', 'pickup_timezone']=2\n",
        "train.loc[train['pickup_timezone']=='late night', 'pickup_timezone']=3\n",
        "\n",
        "test.loc[test['pickup_timezone']=='morning', 'pickup_timezone']=0\n",
        "test.loc[test['pickup_timezone']=='midday', 'pickup_timezone']=1\n",
        "test.loc[test['pickup_timezone']=='evening', 'pickup_timezone']=2\n",
        "test.loc[test['pickup_timezone']=='late night', 'pickup_timezone']=3\n",
        "\n",
        "train.loc[train['dropoff_timezone']=='morning', 'dropoff_timezone']=0\n",
        "train.loc[train['dropoff_timezone']=='midday', 'dropoff_timezone']=1\n",
        "train.loc[train['dropoff_timezone']=='evening', 'dropoff_timezone']=2\n",
        "train.loc[train['dropoff_timezone']=='late night', 'dropoff_timezone']=3"
      ],
      "execution_count": null,
      "outputs": [
        {
          "output_type": "stream",
          "text": [
            "/usr/local/lib/python3.6/dist-packages/pandas/core/ops/__init__.py:1115: FutureWarning: elementwise comparison failed; returning scalar instead, but in the future will perform elementwise comparison\n",
            "  result = method(y)\n"
          ],
          "name": "stderr"
        }
      ]
    },
    {
      "cell_type": "code",
      "metadata": {
        "id": "ujBQM6y0dt1e",
        "colab_type": "code",
        "colab": {
          "base_uri": "https://localhost:8080/",
          "height": 309
        },
        "outputId": "ee6cd5a7-1372-4236-8667-83b989c7a8bc"
      },
      "source": [
        "train.head()"
      ],
      "execution_count": null,
      "outputs": [
        {
          "output_type": "execute_result",
          "data": {
            "text/html": [
              "<div>\n",
              "<style scoped>\n",
              "    .dataframe tbody tr th:only-of-type {\n",
              "        vertical-align: middle;\n",
              "    }\n",
              "\n",
              "    .dataframe tbody tr th {\n",
              "        vertical-align: top;\n",
              "    }\n",
              "\n",
              "    .dataframe thead th {\n",
              "        text-align: right;\n",
              "    }\n",
              "</style>\n",
              "<table border=\"1\" class=\"dataframe\">\n",
              "  <thead>\n",
              "    <tr style=\"text-align: right;\">\n",
              "      <th></th>\n",
              "      <th>id</th>\n",
              "      <th>vendor_id</th>\n",
              "      <th>pickup_datetime</th>\n",
              "      <th>dropoff_datetime</th>\n",
              "      <th>passenger_count</th>\n",
              "      <th>pickup_longitude</th>\n",
              "      <th>pickup_latitude</th>\n",
              "      <th>dropoff_longitude</th>\n",
              "      <th>dropoff_latitude</th>\n",
              "      <th>store_and_fwd_flag</th>\n",
              "      <th>trip_duration</th>\n",
              "      <th>distance</th>\n",
              "      <th>pickup_day</th>\n",
              "      <th>dropoff_day</th>\n",
              "      <th>pickup_timezone</th>\n",
              "      <th>dropoff_timezone</th>\n",
              "    </tr>\n",
              "  </thead>\n",
              "  <tbody>\n",
              "    <tr>\n",
              "      <th>0</th>\n",
              "      <td>id2875421</td>\n",
              "      <td>2</td>\n",
              "      <td>2016-03-14 17:24:55</td>\n",
              "      <td>2016-03-14 17:32:30</td>\n",
              "      <td>1</td>\n",
              "      <td>-73.982155</td>\n",
              "      <td>40.767937</td>\n",
              "      <td>-73.964630</td>\n",
              "      <td>40.765602</td>\n",
              "      <td>0</td>\n",
              "      <td>455</td>\n",
              "      <td>1.498523</td>\n",
              "      <td>0</td>\n",
              "      <td>0</td>\n",
              "      <td>2</td>\n",
              "      <td>2</td>\n",
              "    </tr>\n",
              "    <tr>\n",
              "      <th>1</th>\n",
              "      <td>id2377394</td>\n",
              "      <td>1</td>\n",
              "      <td>2016-06-12 00:43:35</td>\n",
              "      <td>2016-06-12 00:54:38</td>\n",
              "      <td>1</td>\n",
              "      <td>-73.980415</td>\n",
              "      <td>40.738564</td>\n",
              "      <td>-73.999481</td>\n",
              "      <td>40.731152</td>\n",
              "      <td>0</td>\n",
              "      <td>663</td>\n",
              "      <td>1.805510</td>\n",
              "      <td>6</td>\n",
              "      <td>6</td>\n",
              "      <td>3</td>\n",
              "      <td>3</td>\n",
              "    </tr>\n",
              "    <tr>\n",
              "      <th>2</th>\n",
              "      <td>id3858529</td>\n",
              "      <td>2</td>\n",
              "      <td>2016-01-19 11:35:24</td>\n",
              "      <td>2016-01-19 12:10:48</td>\n",
              "      <td>1</td>\n",
              "      <td>-73.979027</td>\n",
              "      <td>40.763939</td>\n",
              "      <td>-74.005333</td>\n",
              "      <td>40.710087</td>\n",
              "      <td>0</td>\n",
              "      <td>2124</td>\n",
              "      <td>6.385108</td>\n",
              "      <td>1</td>\n",
              "      <td>1</td>\n",
              "      <td>1</td>\n",
              "      <td>1</td>\n",
              "    </tr>\n",
              "    <tr>\n",
              "      <th>3</th>\n",
              "      <td>id3504673</td>\n",
              "      <td>2</td>\n",
              "      <td>2016-04-06 19:32:31</td>\n",
              "      <td>2016-04-06 19:39:40</td>\n",
              "      <td>1</td>\n",
              "      <td>-74.010040</td>\n",
              "      <td>40.719971</td>\n",
              "      <td>-74.012268</td>\n",
              "      <td>40.706718</td>\n",
              "      <td>0</td>\n",
              "      <td>429</td>\n",
              "      <td>1.485501</td>\n",
              "      <td>2</td>\n",
              "      <td>2</td>\n",
              "      <td>2</td>\n",
              "      <td>2</td>\n",
              "    </tr>\n",
              "    <tr>\n",
              "      <th>4</th>\n",
              "      <td>id2181028</td>\n",
              "      <td>2</td>\n",
              "      <td>2016-03-26 13:30:55</td>\n",
              "      <td>2016-03-26 13:38:10</td>\n",
              "      <td>1</td>\n",
              "      <td>-73.973053</td>\n",
              "      <td>40.793209</td>\n",
              "      <td>-73.972923</td>\n",
              "      <td>40.782520</td>\n",
              "      <td>0</td>\n",
              "      <td>435</td>\n",
              "      <td>1.188590</td>\n",
              "      <td>5</td>\n",
              "      <td>5</td>\n",
              "      <td>1</td>\n",
              "      <td>1</td>\n",
              "    </tr>\n",
              "  </tbody>\n",
              "</table>\n",
              "</div>"
            ],
            "text/plain": [
              "          id  vendor_id  ... pickup_timezone dropoff_timezone\n",
              "0  id2875421          2  ...               2                2\n",
              "1  id2377394          1  ...               3                3\n",
              "2  id3858529          2  ...               1                1\n",
              "3  id3504673          2  ...               2                2\n",
              "4  id2181028          2  ...               1                1\n",
              "\n",
              "[5 rows x 16 columns]"
            ]
          },
          "metadata": {
            "tags": []
          },
          "execution_count": 13
        }
      ]
    },
    {
      "cell_type": "code",
      "metadata": {
        "id": "DD5EV-5HIhZ5",
        "colab_type": "code",
        "colab": {
          "base_uri": "https://localhost:8080/",
          "height": 309
        },
        "outputId": "c8558b07-8019-4b19-e150-26ee18fec074"
      },
      "source": [
        "test.head()"
      ],
      "execution_count": null,
      "outputs": [
        {
          "output_type": "execute_result",
          "data": {
            "text/html": [
              "<div>\n",
              "<style scoped>\n",
              "    .dataframe tbody tr th:only-of-type {\n",
              "        vertical-align: middle;\n",
              "    }\n",
              "\n",
              "    .dataframe tbody tr th {\n",
              "        vertical-align: top;\n",
              "    }\n",
              "\n",
              "    .dataframe thead th {\n",
              "        text-align: right;\n",
              "    }\n",
              "</style>\n",
              "<table border=\"1\" class=\"dataframe\">\n",
              "  <thead>\n",
              "    <tr style=\"text-align: right;\">\n",
              "      <th></th>\n",
              "      <th>id</th>\n",
              "      <th>vendor_id</th>\n",
              "      <th>pickup_datetime</th>\n",
              "      <th>passenger_count</th>\n",
              "      <th>pickup_longitude</th>\n",
              "      <th>pickup_latitude</th>\n",
              "      <th>dropoff_longitude</th>\n",
              "      <th>dropoff_latitude</th>\n",
              "      <th>store_and_fwd_flag</th>\n",
              "      <th>distance</th>\n",
              "      <th>pickup_day</th>\n",
              "      <th>pickup_timezone</th>\n",
              "    </tr>\n",
              "  </thead>\n",
              "  <tbody>\n",
              "    <tr>\n",
              "      <th>0</th>\n",
              "      <td>id3004672</td>\n",
              "      <td>1</td>\n",
              "      <td>2016-06-30 23:59:58</td>\n",
              "      <td>1</td>\n",
              "      <td>-73.988129</td>\n",
              "      <td>40.732029</td>\n",
              "      <td>-73.990173</td>\n",
              "      <td>40.756680</td>\n",
              "      <td>0</td>\n",
              "      <td>2.746430</td>\n",
              "      <td>3</td>\n",
              "      <td>3</td>\n",
              "    </tr>\n",
              "    <tr>\n",
              "      <th>1</th>\n",
              "      <td>id3505355</td>\n",
              "      <td>1</td>\n",
              "      <td>2016-06-30 23:59:53</td>\n",
              "      <td>1</td>\n",
              "      <td>-73.964203</td>\n",
              "      <td>40.679993</td>\n",
              "      <td>-73.959808</td>\n",
              "      <td>40.655403</td>\n",
              "      <td>0</td>\n",
              "      <td>2.759243</td>\n",
              "      <td>3</td>\n",
              "      <td>3</td>\n",
              "    </tr>\n",
              "    <tr>\n",
              "      <th>2</th>\n",
              "      <td>id1217141</td>\n",
              "      <td>1</td>\n",
              "      <td>2016-06-30 23:59:47</td>\n",
              "      <td>1</td>\n",
              "      <td>-73.997437</td>\n",
              "      <td>40.737583</td>\n",
              "      <td>-73.986160</td>\n",
              "      <td>40.729523</td>\n",
              "      <td>0</td>\n",
              "      <td>1.306157</td>\n",
              "      <td>3</td>\n",
              "      <td>3</td>\n",
              "    </tr>\n",
              "    <tr>\n",
              "      <th>3</th>\n",
              "      <td>id2150126</td>\n",
              "      <td>2</td>\n",
              "      <td>2016-06-30 23:59:41</td>\n",
              "      <td>1</td>\n",
              "      <td>-73.956070</td>\n",
              "      <td>40.771900</td>\n",
              "      <td>-73.986427</td>\n",
              "      <td>40.730469</td>\n",
              "      <td>0</td>\n",
              "      <td>5.269095</td>\n",
              "      <td>3</td>\n",
              "      <td>3</td>\n",
              "    </tr>\n",
              "    <tr>\n",
              "      <th>4</th>\n",
              "      <td>id1598245</td>\n",
              "      <td>1</td>\n",
              "      <td>2016-06-30 23:59:33</td>\n",
              "      <td>1</td>\n",
              "      <td>-73.970215</td>\n",
              "      <td>40.761475</td>\n",
              "      <td>-73.961510</td>\n",
              "      <td>40.755890</td>\n",
              "      <td>0</td>\n",
              "      <td>0.960843</td>\n",
              "      <td>3</td>\n",
              "      <td>3</td>\n",
              "    </tr>\n",
              "  </tbody>\n",
              "</table>\n",
              "</div>"
            ],
            "text/plain": [
              "          id  vendor_id  ... pickup_day  pickup_timezone\n",
              "0  id3004672          1  ...          3                3\n",
              "1  id3505355          1  ...          3                3\n",
              "2  id1217141          1  ...          3                3\n",
              "3  id2150126          2  ...          3                3\n",
              "4  id1598245          1  ...          3                3\n",
              "\n",
              "[5 rows x 12 columns]"
            ]
          },
          "metadata": {
            "tags": []
          },
          "execution_count": 22
        }
      ]
    },
    {
      "cell_type": "code",
      "metadata": {
        "id": "K8Gv1W7IeDEv",
        "colab_type": "code",
        "colab": {}
      },
      "source": [
        "train.drop(['id', 'pickup_datetime', 'dropoff_datetime', 'pickup_longitude','pickup_latitude', 'dropoff_longitude', 'dropoff_latitude'], axis=1, inplace=True)\n",
        "#test.drop(['id', 'pickup_datetime', 'pickup_longitude', 'pickup_latitude', 'dropoff_longitude', 'dropoff_latitude'], axis=1, inplace=True)\n",
        "\n"
      ],
      "execution_count": null,
      "outputs": []
    },
    {
      "cell_type": "code",
      "metadata": {
        "id": "B2txsoPgjI5K",
        "colab_type": "code",
        "colab": {
          "base_uri": "https://localhost:8080/",
          "height": 224
        },
        "outputId": "d5e127a4-58a9-4e10-d05d-a8d7c5b7256f"
      },
      "source": [
        "train.head()"
      ],
      "execution_count": null,
      "outputs": [
        {
          "output_type": "execute_result",
          "data": {
            "text/html": [
              "<div>\n",
              "<style scoped>\n",
              "    .dataframe tbody tr th:only-of-type {\n",
              "        vertical-align: middle;\n",
              "    }\n",
              "\n",
              "    .dataframe tbody tr th {\n",
              "        vertical-align: top;\n",
              "    }\n",
              "\n",
              "    .dataframe thead th {\n",
              "        text-align: right;\n",
              "    }\n",
              "</style>\n",
              "<table border=\"1\" class=\"dataframe\">\n",
              "  <thead>\n",
              "    <tr style=\"text-align: right;\">\n",
              "      <th></th>\n",
              "      <th>vendor_id</th>\n",
              "      <th>passenger_count</th>\n",
              "      <th>store_and_fwd_flag</th>\n",
              "      <th>trip_duration</th>\n",
              "      <th>distance</th>\n",
              "      <th>pickup_day</th>\n",
              "      <th>dropoff_day</th>\n",
              "      <th>pickup_timezone</th>\n",
              "      <th>dropoff_timezone</th>\n",
              "    </tr>\n",
              "  </thead>\n",
              "  <tbody>\n",
              "    <tr>\n",
              "      <th>0</th>\n",
              "      <td>2</td>\n",
              "      <td>1</td>\n",
              "      <td>0</td>\n",
              "      <td>455</td>\n",
              "      <td>1.498523</td>\n",
              "      <td>0</td>\n",
              "      <td>0</td>\n",
              "      <td>2</td>\n",
              "      <td>2</td>\n",
              "    </tr>\n",
              "    <tr>\n",
              "      <th>1</th>\n",
              "      <td>1</td>\n",
              "      <td>1</td>\n",
              "      <td>0</td>\n",
              "      <td>663</td>\n",
              "      <td>1.805510</td>\n",
              "      <td>6</td>\n",
              "      <td>6</td>\n",
              "      <td>3</td>\n",
              "      <td>3</td>\n",
              "    </tr>\n",
              "    <tr>\n",
              "      <th>2</th>\n",
              "      <td>2</td>\n",
              "      <td>1</td>\n",
              "      <td>0</td>\n",
              "      <td>2124</td>\n",
              "      <td>6.385108</td>\n",
              "      <td>1</td>\n",
              "      <td>1</td>\n",
              "      <td>1</td>\n",
              "      <td>1</td>\n",
              "    </tr>\n",
              "    <tr>\n",
              "      <th>3</th>\n",
              "      <td>2</td>\n",
              "      <td>1</td>\n",
              "      <td>0</td>\n",
              "      <td>429</td>\n",
              "      <td>1.485501</td>\n",
              "      <td>2</td>\n",
              "      <td>2</td>\n",
              "      <td>2</td>\n",
              "      <td>2</td>\n",
              "    </tr>\n",
              "    <tr>\n",
              "      <th>4</th>\n",
              "      <td>2</td>\n",
              "      <td>1</td>\n",
              "      <td>0</td>\n",
              "      <td>435</td>\n",
              "      <td>1.188590</td>\n",
              "      <td>5</td>\n",
              "      <td>5</td>\n",
              "      <td>1</td>\n",
              "      <td>1</td>\n",
              "    </tr>\n",
              "  </tbody>\n",
              "</table>\n",
              "</div>"
            ],
            "text/plain": [
              "   vendor_id  passenger_count  ...  pickup_timezone  dropoff_timezone\n",
              "0          2                1  ...                2                 2\n",
              "1          1                1  ...                3                 3\n",
              "2          2                1  ...                1                 1\n",
              "3          2                1  ...                2                 2\n",
              "4          2                1  ...                1                 1\n",
              "\n",
              "[5 rows x 9 columns]"
            ]
          },
          "metadata": {
            "tags": []
          },
          "execution_count": 24
        }
      ]
    },
    {
      "cell_type": "code",
      "metadata": {
        "id": "KJzRE5efjY6I",
        "colab_type": "code",
        "colab": {
          "base_uri": "https://localhost:8080/",
          "height": 309
        },
        "outputId": "eb355306-afcd-480c-9d2c-81cf6e48838f"
      },
      "source": [
        "test.head()"
      ],
      "execution_count": null,
      "outputs": [
        {
          "output_type": "execute_result",
          "data": {
            "text/html": [
              "<div>\n",
              "<style scoped>\n",
              "    .dataframe tbody tr th:only-of-type {\n",
              "        vertical-align: middle;\n",
              "    }\n",
              "\n",
              "    .dataframe tbody tr th {\n",
              "        vertical-align: top;\n",
              "    }\n",
              "\n",
              "    .dataframe thead th {\n",
              "        text-align: right;\n",
              "    }\n",
              "</style>\n",
              "<table border=\"1\" class=\"dataframe\">\n",
              "  <thead>\n",
              "    <tr style=\"text-align: right;\">\n",
              "      <th></th>\n",
              "      <th>id</th>\n",
              "      <th>vendor_id</th>\n",
              "      <th>pickup_datetime</th>\n",
              "      <th>passenger_count</th>\n",
              "      <th>pickup_longitude</th>\n",
              "      <th>pickup_latitude</th>\n",
              "      <th>dropoff_longitude</th>\n",
              "      <th>dropoff_latitude</th>\n",
              "      <th>store_and_fwd_flag</th>\n",
              "      <th>distance</th>\n",
              "      <th>pickup_day</th>\n",
              "      <th>pickup_timezone</th>\n",
              "    </tr>\n",
              "  </thead>\n",
              "  <tbody>\n",
              "    <tr>\n",
              "      <th>0</th>\n",
              "      <td>id3004672</td>\n",
              "      <td>1</td>\n",
              "      <td>2016-06-30 23:59:58</td>\n",
              "      <td>1</td>\n",
              "      <td>-73.988129</td>\n",
              "      <td>40.732029</td>\n",
              "      <td>-73.990173</td>\n",
              "      <td>40.756680</td>\n",
              "      <td>0</td>\n",
              "      <td>2.746430</td>\n",
              "      <td>3</td>\n",
              "      <td>3</td>\n",
              "    </tr>\n",
              "    <tr>\n",
              "      <th>1</th>\n",
              "      <td>id3505355</td>\n",
              "      <td>1</td>\n",
              "      <td>2016-06-30 23:59:53</td>\n",
              "      <td>1</td>\n",
              "      <td>-73.964203</td>\n",
              "      <td>40.679993</td>\n",
              "      <td>-73.959808</td>\n",
              "      <td>40.655403</td>\n",
              "      <td>0</td>\n",
              "      <td>2.759243</td>\n",
              "      <td>3</td>\n",
              "      <td>3</td>\n",
              "    </tr>\n",
              "    <tr>\n",
              "      <th>2</th>\n",
              "      <td>id1217141</td>\n",
              "      <td>1</td>\n",
              "      <td>2016-06-30 23:59:47</td>\n",
              "      <td>1</td>\n",
              "      <td>-73.997437</td>\n",
              "      <td>40.737583</td>\n",
              "      <td>-73.986160</td>\n",
              "      <td>40.729523</td>\n",
              "      <td>0</td>\n",
              "      <td>1.306157</td>\n",
              "      <td>3</td>\n",
              "      <td>3</td>\n",
              "    </tr>\n",
              "    <tr>\n",
              "      <th>3</th>\n",
              "      <td>id2150126</td>\n",
              "      <td>2</td>\n",
              "      <td>2016-06-30 23:59:41</td>\n",
              "      <td>1</td>\n",
              "      <td>-73.956070</td>\n",
              "      <td>40.771900</td>\n",
              "      <td>-73.986427</td>\n",
              "      <td>40.730469</td>\n",
              "      <td>0</td>\n",
              "      <td>5.269095</td>\n",
              "      <td>3</td>\n",
              "      <td>3</td>\n",
              "    </tr>\n",
              "    <tr>\n",
              "      <th>4</th>\n",
              "      <td>id1598245</td>\n",
              "      <td>1</td>\n",
              "      <td>2016-06-30 23:59:33</td>\n",
              "      <td>1</td>\n",
              "      <td>-73.970215</td>\n",
              "      <td>40.761475</td>\n",
              "      <td>-73.961510</td>\n",
              "      <td>40.755890</td>\n",
              "      <td>0</td>\n",
              "      <td>0.960843</td>\n",
              "      <td>3</td>\n",
              "      <td>3</td>\n",
              "    </tr>\n",
              "  </tbody>\n",
              "</table>\n",
              "</div>"
            ],
            "text/plain": [
              "          id  vendor_id  ... pickup_day  pickup_timezone\n",
              "0  id3004672          1  ...          3                3\n",
              "1  id3505355          1  ...          3                3\n",
              "2  id1217141          1  ...          3                3\n",
              "3  id2150126          2  ...          3                3\n",
              "4  id1598245          1  ...          3                3\n",
              "\n",
              "[5 rows x 12 columns]"
            ]
          },
          "metadata": {
            "tags": []
          },
          "execution_count": 25
        }
      ]
    },
    {
      "cell_type": "code",
      "metadata": {
        "id": "mPwDmK_D_jmH",
        "colab_type": "code",
        "colab": {
          "base_uri": "https://localhost:8080/",
          "height": 68
        },
        "outputId": "d4a8f120-9755-40ce-ee28-b290e8b5755b"
      },
      "source": [
        "from sklearn import linear_model, preprocessing\n",
        "from sklearn.linear_model import LinearRegression\n",
        "from sklearn import metrics\n",
        "X_train=train.drop(['trip_duration', 'dropoff_timezone', 'dropoff_day'], axis=1).copy()\n",
        "Y_train= train['trip_duration']\n",
        "X_test=test.drop(['id', 'pickup_datetime', 'pickup_longitude', 'pickup_latitude', 'dropoff_longitude', 'dropoff_latitude', ], axis=1).copy()\n",
        "\n",
        "print(X_train.shape,Y_train.shape,X_test.shape)\n",
        "\n",
        "\n",
        "classifier=linear_model.LinearRegression()\n",
        "classifier1=classifier.fit(X_train, Y_train)\n",
        "\n",
        "print (classifier1.score(X_train, Y_train))\n",
        "Y_pred=classifier.predict(X_test)\n",
        "\n",
        "poly=preprocessing.PolynomialFeatures(degree=2)\n",
        "poly_features=poly.fit_transform(X_train)\n",
        "classifier=linear_model.LinearRegression()\n",
        "classifier1=classifier.fit(poly_features, Y_train)\n",
        "print (classifier1.score(poly_features, Y_train))\n"
      ],
      "execution_count": null,
      "outputs": [
        {
          "output_type": "stream",
          "text": [
            "(1458640, 6) (1458640,) (625134, 6)\n",
            "0.024321709398382185\n",
            "0.029003939130072154\n"
          ],
          "name": "stdout"
        }
      ]
    },
    {
      "cell_type": "code",
      "metadata": {
        "id": "lMMl9uGK6emK",
        "colab_type": "code",
        "colab": {
          "base_uri": "https://localhost:8080/",
          "height": 241
        },
        "outputId": "d2889e6d-7e68-48a7-8565-4191956ffa74"
      },
      "source": [
        "from sklearn import tree, model_selection\n",
        "\n",
        "#X_train=train.drop(['trip_duration', 'dropoff_timezone', 'dropoff_day'], axis=1).copy()\n",
        "#Y_train= train['trip_duration']\n",
        "#X_test=test.drop(['id', 'pickup_datetime', 'pickup_longitude', 'pickup_latitude', 'dropoff_longitude', 'dropoff_latitude'], axis=1).copy()\n",
        "decision_tree=tree.DecisionTreeClassifier(criterion='gini',splitter='random',random_state=1, max_depth=3, min_samples_split=2)\n",
        "dec_tree1=decision_tree.fit(X_train,Y_train)\n",
        "#print (\"Training set accuracy: \", dec_tree1.score(X_train,Y_train))\n",
        "scores=model_selection.cross_val_score(decision_tree,X_train,Y_train,scoring='accuracy', cv=50)\n",
        "print (scores)\n",
        "print (\"Validation set accuracy is:\", scores.mean())\n",
        "\n",
        "\n",
        "\n",
        "acc_decision_tree=round(decision_tree.score(X_train, Y_train) * 100, 2)\n",
        "print(\"Accuracy of training set is:\", acc_decision_tree)"
      ],
      "execution_count": null,
      "outputs": [
        {
          "output_type": "stream",
          "text": [
            "/usr/local/lib/python3.6/dist-packages/sklearn/model_selection/_split.py:667: UserWarning: The least populated class in y has only 1 members, which is less than n_splits=50.\n",
            "  % (min_groups, self.n_splits)), UserWarning)\n"
          ],
          "name": "stderr"
        },
        {
          "output_type": "stream",
          "text": [
            "[0.00099407 0.00123402 0.00113118 0.00085696 0.00106263 0.00082268\n",
            " 0.00099407 0.00099407 0.00137113 0.00137113 0.00113118 0.00116546\n",
            " 0.00071984 0.0010969  0.00089124 0.00102835 0.00092551 0.00095979\n",
            " 0.00095979 0.00133685 0.00123402 0.00099407 0.0010969  0.00099407\n",
            " 0.00113118 0.00089124 0.00123402 0.00113118 0.00113118 0.0012683\n",
            " 0.00116546 0.00089124 0.00092551 0.00106263 0.00113118 0.00099407\n",
            " 0.00099407 0.0010969  0.00082268 0.00089124 0.00106266 0.00130262\n",
            " 0.00126834 0.00092555 0.00123406 0.00123406 0.00089127 0.00092555\n",
            " 0.0009941  0.00109694]\n",
            "Validation set accuracy is: 0.0010612627670402686\n"
          ],
          "name": "stdout"
        }
      ]
    },
    {
      "cell_type": "code",
      "metadata": {
        "id": "5u74A4Msjk1K",
        "colab_type": "code",
        "colab": {}
      },
      "source": [
        "# Labels are the values we want to predict\n",
        "labels = np.array(train['trip_duration'])\n",
        "# Remove the labels from the features\n",
        "# axis 1 refers to the columns\n",
        "features= train.drop(['trip_duration','dropoff_timezone', 'dropoff_day'], axis = 1)\n",
        "# Saving feature names for later use\n",
        "feature_list = list(X_train.columns)\n",
        "# Convert to numpy array\n",
        "features = np.array(X_train)"
      ],
      "execution_count": null,
      "outputs": []
    },
    {
      "cell_type": "code",
      "metadata": {
        "id": "SUY_VXRLyn79",
        "colab_type": "code",
        "colab": {}
      },
      "source": [
        "test_features=np.array(X_test)\n",
        "\n"
      ],
      "execution_count": null,
      "outputs": []
    },
    {
      "cell_type": "code",
      "metadata": {
        "id": "84l1ns9TKXsr",
        "colab_type": "code",
        "colab": {
          "base_uri": "https://localhost:8080/",
          "height": 275
        },
        "outputId": "61cca81d-f550-4f7c-a7b7-16f43d76a7cf"
      },
      "source": [
        "pip install scitime"
      ],
      "execution_count": null,
      "outputs": [
        {
          "output_type": "stream",
          "text": [
            "Collecting scitime\n",
            "\u001b[?25l  Downloading https://files.pythonhosted.org/packages/72/89/70f693c181ce1bc607765dde514202e26bfe165a54fff2c9a2ac85f41814/scitime-0.0.2-py3-none-any.whl (45.9MB)\n",
            "\u001b[K     |████████████████████████████████| 45.9MB 77kB/s \n",
            "\u001b[?25hRequirement already satisfied: pandas>=0.20.3 in /usr/local/lib/python3.6/dist-packages (from scitime) (0.25.3)\n",
            "Requirement already satisfied: joblib>=0.12.5 in /usr/local/lib/python3.6/dist-packages (from scitime) (0.14.1)\n",
            "Requirement already satisfied: psutil>=5.4.7 in /usr/local/lib/python3.6/dist-packages (from scitime) (5.4.8)\n",
            "Requirement already satisfied: scikit-learn>=0.19.1 in /usr/local/lib/python3.6/dist-packages (from scitime) (0.22.1)\n",
            "Requirement already satisfied: python-dateutil>=2.6.1 in /usr/local/lib/python3.6/dist-packages (from pandas>=0.20.3->scitime) (2.6.1)\n",
            "Requirement already satisfied: numpy>=1.13.3 in /usr/local/lib/python3.6/dist-packages (from pandas>=0.20.3->scitime) (1.17.5)\n",
            "Requirement already satisfied: pytz>=2017.2 in /usr/local/lib/python3.6/dist-packages (from pandas>=0.20.3->scitime) (2018.9)\n",
            "Requirement already satisfied: scipy>=0.17.0 in /usr/local/lib/python3.6/dist-packages (from scikit-learn>=0.19.1->scitime) (1.4.1)\n",
            "Requirement already satisfied: six>=1.5 in /usr/local/lib/python3.6/dist-packages (from python-dateutil>=2.6.1->pandas>=0.20.3->scitime) (1.12.0)\n",
            "Installing collected packages: scitime\n",
            "Successfully installed scitime-0.0.2\n"
          ],
          "name": "stdout"
        }
      ]
    },
    {
      "cell_type": "code",
      "metadata": {
        "id": "mg4WKPnyM6AO",
        "colab_type": "code",
        "colab": {
          "base_uri": "https://localhost:8080/",
          "height": 207
        },
        "outputId": "aef79dca-8a56-4143-b6f0-eee93cbc98f8"
      },
      "source": [
        "from scitime import Estimator\n",
        "from sklearn.ensemble import RandomForestRegressor\n",
        "estimator=Estimator()\n",
        "# Instantiate model with 1000 decision trees\n",
        "rf = RandomForestRegressor(n_estimators = 1000, random_state = 42, max_depth=10)\n",
        "estimation, lower_bound, upper_bound = estimator.time(rf, features, labels )"
      ],
      "execution_count": null,
      "outputs": [
        {
          "output_type": "stream",
          "text": [
            "scitime.estimate.Estimator:DEBUG:The model would fit. Moving on\n",
            "scitime.estimate.Estimator:DEBUG:Fetching estimator: RF_RandomForestRegressor_estimator.pkl\n",
            "scitime.estimate.Estimator:INFO:Training your model for these params: {'total_memory': [27395407872], 'available_memory': [25236934656], 'num_cpu': [4], 'num_rows': [1458640], 'num_features': [6], 'n_estimators': [1000], 'max_depth': [10], 'min_samples_split': [2], 'min_samples_leaf': [1], 'min_weight_fraction_leaf': [0.0], 'max_features': ['auto'], 'criterion': ['mse'], 'max_leaf_nodes': [None], 'min_impurity_decrease': [0.0], 'min_impurity_split': [None], 'bootstrap': [True], 'oob_score': [False], 'n_jobs': [None]}\n",
            "scitime.estimate.Estimator:INFO:Transforming dataset for semi dummy features\n",
            "scitime.estimate.Estimator:WARNING:Parameters ['random_state', 'ccp_alpha', 'warm_start', 'max_samples', 'verbose'] will not be accounted for\n",
            "scitime.estimate.Estimator:INFO:Training your RandomForestRegressor model should take ~ 1 hour and 8\n",
            "                minutes and 41 seconds\n",
            "scitime.estimate.Estimator:INFO:The 95.0% prediction interval is [41 minutes\n",
            "                and 45 seconds, 1 hour and 46\n",
            "                minutes and 16 seconds]\n"
          ],
          "name": "stderr"
        }
      ]
    },
    {
      "cell_type": "code",
      "metadata": {
        "id": "x3sO-UV-2Sg-",
        "colab_type": "code",
        "colab": {}
      },
      "source": [
        "#from sklearn.ensemble import RandomForestRegressor\n",
        "# Instantiate model with 1000 decision trees\n",
        "#rf = RandomForestRegressor(n_estimators = 100, random_state = 42)\n",
        "# Train the model on training data\n",
        "rf.fit(features, labels)\n",
        "Y_pred= rf.predict(test_features)"
      ],
      "execution_count": null,
      "outputs": []
    },
    {
      "cell_type": "code",
      "metadata": {
        "id": "-4SGaudB_-eO",
        "colab_type": "code",
        "colab": {}
      },
      "source": [
        "submission=pd.DataFrame({\"id\": test['id'], \"trip_duration\": Y_pred})\n",
        "submission.to_csv('submission_1000RF_10.csv')"
      ],
      "execution_count": null,
      "outputs": []
    },
    {
      "cell_type": "code",
      "metadata": {
        "id": "VyFjNc1MLeb3",
        "colab_type": "code",
        "colab": {}
      },
      "source": [
        ""
      ],
      "execution_count": null,
      "outputs": []
    }
  ]
}